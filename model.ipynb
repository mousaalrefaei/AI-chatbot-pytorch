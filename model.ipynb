{
 "cells": [
  {
   "cell_type": "code",
   "execution_count": 1,
   "id": "ee57ca40-9fae-4881-bdcb-2c7155e5b0f1",
   "metadata": {},
   "outputs": [],
   "source": [
    "import nltk\n",
    "from nltk.stem.porter import PorterStemmer\n",
    "import numpy as np\n",
    "import torch\n",
    "import torch.nn as nn\n",
    "from torch.utils.data import Dataset , DataLoader\n",
    "import random"
   ]
  },
  {
   "cell_type": "code",
   "execution_count": 2,
   "id": "7a7a52a8-0bcd-4058-bae2-e8088abeddb0",
   "metadata": {},
   "outputs": [],
   "source": [
    "# determine the used stemmer\n",
    "stemmer = PorterStemmer()\n",
    "\n",
    "# define tokenize function:\n",
    "def tokenize(sentence):\n",
    "    return nltk.word_tokenize(sentence)\n",
    "\n",
    "# define stemming function:\n",
    "def stem(word):\n",
    "    return stemmer.stem(word.lower())\n",
    "\n",
    "# define bag fo words function\n",
    "def bag_of_words(tokenized_sentence, all_words):\n",
    "    \n",
    "    \n",
    "    tokenized_sentence = [stem(w) for w in tokenized_sentence]\n",
    "    \n",
    "    bag = np.zeros(len(all_words), dtype = np.float32)\n",
    "    for idx, w in enumerate(all_words):\n",
    "        if w in tokenized_sentence:\n",
    "            bag[idx] = 1.0\n",
    "    \n",
    "    return bag"
   ]
  },
  {
   "cell_type": "code",
   "execution_count": 3,
   "id": "da1c84e0-cd32-423c-940d-18324f90f868",
   "metadata": {
    "tags": []
   },
   "outputs": [
    {
     "name": "stdout",
     "output_type": "stream",
     "text": [
      "['How', 'long', 'does', 'shipping', 'take', '?']\n"
     ]
    }
   ],
   "source": [
    "# example of the tokenization function:\n",
    "\n",
    "a = 'How long does shipping take?'\n",
    "a = tokenize(a)\n",
    "print(a)"
   ]
  },
  {
   "cell_type": "code",
   "execution_count": 4,
   "id": "994e21da-9b4b-4723-a6dd-07a490e4495d",
   "metadata": {
    "tags": []
   },
   "outputs": [
    {
     "name": "stdout",
     "output_type": "stream",
     "text": [
      "['organ', 'organ', 'organ', 'organ', 'organ']\n"
     ]
    }
   ],
   "source": [
    "# example of the stemming function:\n",
    "\n",
    "words = ['Organize', 'organizes', 'organized', 'organization', 'organizing']\n",
    "stemmed_words = [stem(w) for w in words]\n",
    "print(stemmed_words)"
   ]
  },
  {
   "cell_type": "code",
   "execution_count": 5,
   "id": "c950b9ad-c4ae-4bf2-b42a-93da193adb58",
   "metadata": {
    "tags": []
   },
   "outputs": [
    {
     "name": "stdout",
     "output_type": "stream",
     "text": [
      "[0. 1. 0. 1. 0. 0. 0.]\n"
     ]
    }
   ],
   "source": [
    "# example of bag of words function:\n",
    "\n",
    "sentence = ['hello', 'how', 'are', 'you']\n",
    "words = ['hi', 'hello', 'I', 'you', 'bye', 'thank', 'cool']\n",
    "bog = bag_of_words(sentence, words)\n",
    "print(bog)"
   ]
  },
  {
   "cell_type": "code",
   "execution_count": 6,
   "id": "1752212b-aad8-4c28-96dd-a684dcf41f99",
   "metadata": {},
   "outputs": [],
   "source": [
    "# import and read the intents.json file:\n",
    "\n",
    "import json\n",
    "with open('intents.json', 'r') as f:\n",
    "    intents = json.load(f)"
   ]
  },
  {
   "cell_type": "code",
   "execution_count": 7,
   "id": "a9c3075d-9a62-4b87-b8f4-7a6b14c8dcf5",
   "metadata": {},
   "outputs": [],
   "source": [
    "all_words = []\n",
    "tags = []\n",
    "xy = []\n",
    "\n",
    "for intent in intents['intents']:\n",
    "    tag = intent['tag']\n",
    "    tags.append(tag)\n",
    "    for pattern in intent['patterns']:\n",
    "        w = tokenize(pattern)\n",
    "        all_words.extend(w)\n",
    "        xy.append((w, tag))\n",
    "        \n",
    "ignore_words = ['?', ',', '!', '.']\n",
    "\n",
    "all_words = [stem(w) for w in all_words if w not in ignore_words]\n",
    "\n",
    "all_words = sorted(set(all_words))\n",
    "\n",
    "tags = sorted(set(tags))"
   ]
  },
  {
   "cell_type": "code",
   "execution_count": 8,
   "id": "b5232033-cad8-4ba1-bdb9-e85ea71f5c20",
   "metadata": {},
   "outputs": [],
   "source": [
    "X_train = []\n",
    "y_train = []\n",
    "for (pattern_sentence, tag) in xy:\n",
    "    bag = bag_of_words(pattern_sentence, all_words)\n",
    "    X_train.append(bag)\n",
    "    \n",
    "    label = tags.index(tag)\n",
    "    y_train.append(label) # crossentropyloss (so no need for one hot encoding)\n",
    "\n",
    "X_train = np.array(X_train)\n",
    "y_train = np.array(y_train)"
   ]
  },
  {
   "cell_type": "code",
   "execution_count": 9,
   "id": "2bcdfb2d-a286-4e8b-a5bb-166964d9205c",
   "metadata": {},
   "outputs": [],
   "source": [
    "# create dataset:\n",
    "\n",
    "class ChatDataset(Dataset):\n",
    "    def __init__(self):\n",
    "        self.n_samples = len(X_train)\n",
    "        self.x_data = X_train\n",
    "        self.y_data = y_train\n",
    "        \n",
    "    \n",
    "    def __getitem__(self, index):\n",
    "        return self.x_data[index], self.y_data[index]\n",
    "    \n",
    "    def __len__(self):\n",
    "        return self.n_samples\n",
    "    \n",
    "    \n",
    "batch_size = 8\n",
    "dataset = ChatDataset()\n",
    "train_loader = DataLoader(dataset= dataset, batch_size = batch_size, shuffle= True, num_workers= 0)"
   ]
  },
  {
   "cell_type": "code",
   "execution_count": 10,
   "id": "749ad931-d292-4c23-a76c-3e583f2a5aca",
   "metadata": {},
   "outputs": [],
   "source": [
    "# model \n",
    "\n",
    "class NeuralNet(nn.Module):\n",
    "    def __init__(self, input_size, hidden_size, num_classes):\n",
    "        super(NeuralNet, self).__init__()\n",
    "        self.l1 = nn.Linear(input_size, hidden_size)\n",
    "        self.l2 = nn.Linear(hidden_size, hidden_size)\n",
    "        self.l3 = nn.Linear(hidden_size, num_classes)\n",
    "        self.relu = nn.ReLU()\n",
    "        \n",
    "    def forward(self, x):\n",
    "        out = self.l1(x)\n",
    "        out = self.relu(out)\n",
    "        out = self.l2(out)\n",
    "        out = self.relu(out)\n",
    "        out = self.l3(out) # no activation or softmax because we will apply crossentropy later\n",
    "        return out\n",
    "        \n"
   ]
  },
  {
   "cell_type": "code",
   "execution_count": 11,
   "id": "a85182c1-6fc1-46f6-9af4-cd310bceb0d3",
   "metadata": {},
   "outputs": [],
   "source": [
    "# hyperparameters:\n",
    "\n",
    "hidden_size = 8\n",
    "output_size = len(tags)\n",
    "input_size = len(X_train[0])\n",
    "learning_rate = 0.001\n",
    "num_epochs = 1000\n",
    "\n",
    "device = torch.device('cuda' if torch.cuda.is_available() else 'cpu')\n",
    "model = NeuralNet(input_size, hidden_size, output_size).to(device)\n"
   ]
  },
  {
   "cell_type": "code",
   "execution_count": 12,
   "id": "23bcfbb9-79ef-40ad-8b5f-f6e9e9007f45",
   "metadata": {},
   "outputs": [
    {
     "name": "stdout",
     "output_type": "stream",
     "text": [
      "epoch 100/1000, loss = 1.5909\n",
      "epoch 200/1000, loss = 0.2183\n",
      "epoch 300/1000, loss = 0.0274\n",
      "epoch 400/1000, loss = 0.0087\n",
      "epoch 500/1000, loss = 0.0017\n",
      "epoch 600/1000, loss = 0.0034\n",
      "epoch 700/1000, loss = 0.0022\n",
      "epoch 800/1000, loss = 0.0004\n",
      "epoch 900/1000, loss = 0.0005\n",
      "epoch 1000/1000, loss = 0.0002\n",
      "final loss, loss =0.0002\n"
     ]
    }
   ],
   "source": [
    "# loss and optimizer:\n",
    "\n",
    "criterion = nn.CrossEntropyLoss()\n",
    "optimizer = torch.optim.Adam(model.parameters(), lr = learning_rate)\n",
    "\n",
    "\n",
    "# the training loop\n",
    "for epoch in range(num_epochs):\n",
    "    for (words, labels) in train_loader:\n",
    "        words = words.to(device)\n",
    "        labels = labels.to(device, dtype = torch.int64)\n",
    "        \n",
    "        # forward\n",
    "        outputs = model(words)\n",
    "        loss = criterion(outputs, labels)\n",
    "        \n",
    "        #backward and optimizer\n",
    "        optimizer.zero_grad()\n",
    "        loss.backward()\n",
    "        optimizer.step()\n",
    "        \n",
    "    if (epoch+1)% 100 == 0:\n",
    "        print(f'epoch {epoch+1}/{num_epochs}, loss = {loss.item():.4f}')\n",
    "    \n",
    "\n",
    "print(f'final loss, loss ={loss.item():.4f}')"
   ]
  },
  {
   "cell_type": "code",
   "execution_count": 13,
   "id": "82b48450-4471-494c-abdc-40e6d1f5718b",
   "metadata": {},
   "outputs": [
    {
     "name": "stdout",
     "output_type": "stream",
     "text": [
      "traning complete file saved to data.pth\n"
     ]
    }
   ],
   "source": [
    "# save the model\n",
    "data = {\n",
    "    'model_state': model.state_dict(),\n",
    "    'input_size': input_size,\n",
    "    'output_size': output_size,\n",
    "    'hidden_size': hidden_size,\n",
    "    'all_words': all_words,\n",
    "    'tags': tags\n",
    "}\n",
    "\n",
    "FILE = 'data.pth'\n",
    "torch.save(data, FILE)\n",
    "print(f'traning complete file saved to {FILE}')"
   ]
  },
  {
   "cell_type": "code",
   "execution_count": 14,
   "id": "59b90e63-fbc6-4376-96b6-fded78b66121",
   "metadata": {},
   "outputs": [
    {
     "data": {
      "text/plain": [
       "NeuralNet(\n",
       "  (l1): Linear(in_features=54, out_features=8, bias=True)\n",
       "  (l2): Linear(in_features=8, out_features=8, bias=True)\n",
       "  (l3): Linear(in_features=8, out_features=7, bias=True)\n",
       "  (relu): ReLU()\n",
       ")"
      ]
     },
     "execution_count": 14,
     "metadata": {},
     "output_type": "execute_result"
    }
   ],
   "source": [
    "# Load the model\n",
    "data = torch.load(FILE)\n",
    "\n",
    "input_size = data['input_size']\n",
    "hidden_size = data['hidden_size']\n",
    "output_size = data['output_size']\n",
    "all_words = data['all_words']\n",
    "tags = data['tags']\n",
    "model_state = data['model_state']\n",
    "model.load_state_dict(model_state)\n",
    "model.eval()\n"
   ]
  },
  {
   "cell_type": "code",
   "execution_count": 17,
   "id": "f3485b39-66c8-4758-8e4f-44d70acf9ec4",
   "metadata": {},
   "outputs": [
    {
     "name": "stdout",
     "output_type": "stream",
     "text": [
      "Lets chat! type (exit) to exit\n"
     ]
    },
    {
     "name": "stdin",
     "output_type": "stream",
     "text": [
      "you:  exit\n"
     ]
    }
   ],
   "source": [
    "# Run the Chatbot\n",
    "bot_name = \"Adam\"\n",
    "print('Lets chat! type (exit) to exit')\n",
    "\n",
    "while True:\n",
    "    sentence  = input('you: ')\n",
    "    if sentence == 'exit':\n",
    "        break\n",
    "        \n",
    "    sentence = tokenize(sentence)\n",
    "    X = bag_of_words(sentence , all_words)\n",
    "    X = X.reshape(1, X.shape[0])\n",
    "    X = torch.from_numpy(X)\n",
    "    \n",
    "    output = model(X)\n",
    "    \n",
    "    _, predicted = torch.max(output, dim= 1)\n",
    "    tag = tags[predicted.item()]\n",
    "    \n",
    "    probs = torch.softmax(output, dim= 1)\n",
    "    prob = probs[0][predicted.item()]\n",
    "    \n",
    "    if prob.item() > 0.75:\n",
    "        for intent in intents['intents']:\n",
    "            if tag == intent['tag']:\n",
    "                print(f\"{bot_name}: {random.choice(intent['responses'])}\")\n",
    "    \n",
    "    else:\n",
    "        print(f'{bot_name}: Sorry, I do not understand...')\n",
    "            \n",
    "            "
   ]
  },
  {
   "cell_type": "code",
   "execution_count": null,
   "id": "b5a688cf-6670-4782-ae86-8a28b7293826",
   "metadata": {},
   "outputs": [],
   "source": []
  }
 ],
 "metadata": {
  "kernelspec": {
   "display_name": "Python 3 (ipykernel)",
   "language": "python",
   "name": "python3"
  },
  "language_info": {
   "codemirror_mode": {
    "name": "ipython",
    "version": 3
   },
   "file_extension": ".py",
   "mimetype": "text/x-python",
   "name": "python",
   "nbconvert_exporter": "python",
   "pygments_lexer": "ipython3",
   "version": "3.9.7"
  }
 },
 "nbformat": 4,
 "nbformat_minor": 5
}
